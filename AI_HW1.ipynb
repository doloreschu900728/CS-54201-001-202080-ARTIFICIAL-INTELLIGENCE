{
 "cells": [
  {
   "cell_type": "markdown",
   "metadata": {},
   "source": [
    "### 1) BFS "
   ]
  },
  {
   "cell_type": "markdown",
   "metadata": {},
   "source": [
    "First, create two classes: a Vertex(Node) class and a Graph class. \n",
    "The Vertex class has four variables: 1) name, which contains the letter name of the vertex; 2) neighbors[], which contains a list of the direct neighbors of each node; 3) distance, which stores the distances of each vertex from the source; 4) color, which indicates whether the vertex has been visited(red) or not(black). Class Vertex also has one function: add_neighbor(v), which accepts the letter name of a vertex and ammends to the neighbors list. "
   ]
  },
  {
   "cell_type": "code",
   "execution_count": 1,
   "metadata": {},
   "outputs": [],
   "source": [
    "class Vertex:\n",
    "    def __init__(self, n):\n",
    "        self.name = n\n",
    "        self.neighbors = list()\n",
    "        self.distance = 9999\n",
    "        self.color = 'black'\n",
    "\n",
    "    def add_neighbor(self, v):\n",
    "        if v not in self.neighbors:\n",
    "            self.neighbors.append(v)\n",
    "            self.neighbors.sort()"
   ]
  },
  {
   "cell_type": "markdown",
   "metadata": {},
   "source": [
    "The Graph class has a dictionary, vertices{}, which contains all the vertices of the graph. Class Graph also has four fucntions: 1) add_vertex(vert); 2) add_edge(u,v), which takes letter names at either edge of the edge; 3) print_graph() and 4) bfs()"
   ]
  },
  {
   "cell_type": "code",
   "execution_count": 2,
   "metadata": {},
   "outputs": [],
   "source": [
    "class Graph:\n",
    "    vertices = {}\n",
    "    \n",
    "    def add_vertex(self, vertex):\n",
    "        if isinstance(vertex, Vertex) and vertex.name not in self.vertices: #check to see if the vertex given is actually and Vertex object, and that it is not already in the list\n",
    "            self.vertices[vertex.name] = vertex\n",
    "            return True\n",
    "        else:\n",
    "            return False \n",
    "        \n",
    "    def add_edge(self, u, v):\n",
    "        if u in self.vertices and v in self.vertices:\n",
    "            for key, value in self.vertices.items():\n",
    "                if key == u:\n",
    "                    value.add_neighbor(v)\n",
    "                if key == v:\n",
    "                    value.add_neighbor(u)\n",
    "            return True\n",
    "        else:\n",
    "            return False\n",
    "        \n",
    "    def print_graph(self):\n",
    "        for key in sorted(list(self.vertices.keys())):\n",
    "            print(key + str(self.vertices[key].neighbors) + \" \" + str(self.vertices[key].distance))\n",
    "    \n",
    "    def bfs(self, vert):\n",
    "        q = list()\n",
    "        vert.distance = 0\n",
    "        vert.color = 'red'\n",
    "        for v in vert.neighbors:\n",
    "            self.vertices[v].distance = vert.distance + 1\n",
    "            q.append(v)\n",
    "        \n",
    "        while len(q) > 0:\n",
    "            u = q.pop(0) #this pops the first letter in the queue\n",
    "            node_u = self.vertices[u]\n",
    "            node_u.color = 'red'\n",
    "            \n",
    "            for v in node_u.neighbors:\n",
    "                  node_v = self.vertices[v]\n",
    "                  if node_v.color == 'black':\n",
    "                      q.append(v)\n",
    "                      if node_v.distance > node_u.distance + 1:\n",
    "                          node_v.distance = node_u.distance + 1\n",
    "                  \n",
    "        \n",
    "                        "
   ]
  },
  {
   "cell_type": "code",
   "execution_count": 3,
   "metadata": {},
   "outputs": [
    {
     "name": "stdout",
     "output_type": "stream",
     "text": [
      "A['B', 'C'] 0\n",
      "B['A', 'C', 'D'] 1\n",
      "C['A', 'B', 'D', 'E'] 1\n",
      "D['B', 'C', 'E', 'F'] 2\n",
      "E['C', 'D', 'F'] 2\n",
      "F['D', 'E'] 3\n"
     ]
    }
   ],
   "source": [
    "g = Graph()\n",
    "a = Vertex('A')\n",
    "g.add_vertex(a)\n",
    "for i in range(ord('A'), ord('G')):\n",
    "    g.add_vertex(Vertex(chr(i)))\n",
    "    \n",
    "edges = ['AB', 'AC', 'BC', 'BD', 'CD', 'CE', 'DE', 'DF', 'EF']\n",
    "for edge in edges:\n",
    "    g.add_edge(edge[:1], edge[1:])\n",
    "\n",
    "g.bfs(a)\n",
    "g.print_graph()\n",
    "    "
   ]
  },
  {
   "attachments": {},
   "cell_type": "markdown",
   "metadata": {},
   "source": [
    "### 2. “Recursive” DFS"
   ]
  },
  {
   "cell_type": "markdown",
   "metadata": {},
   "source": [
    "First create two classes: Vertex(node) and Graph.\n",
    "\n",
    "Class Vertex has 5 variables: name, neighbors[], discovery, finish and color. It also has an add_neighbor(v) function, v being the vertex.\n",
    "\n",
    "Class Graph has 1 variable: vertices{} (a dictionary). It also has 4 functions: add_vertex(vert), add_edge(u,v), print_graph() and dfs()."
   ]
  },
  {
   "cell_type": "code",
   "execution_count": 4,
   "metadata": {},
   "outputs": [
    {
     "name": "stdout",
     "output_type": "stream",
     "text": [
      "A['B', 'C']  1\n",
      "B['A', 'C', 'D']  2\n",
      "C['A', 'B', 'D', 'E']  4\n",
      "D['B', 'C', 'E', 'F']  7\n",
      "E['C', 'D', 'F']  10\n",
      "F['D', 'E']  13\n"
     ]
    }
   ],
   "source": [
    "class Vertex:\n",
    "    def __init__(self, n):\n",
    "        self.name = n\n",
    "        self.neighbors = list()\n",
    "        \n",
    "        self.discovery = 0\n",
    "        self.finish = 0\n",
    "        self.color = 'black'\n",
    "    \n",
    "    def add_neighbor(self, v):\n",
    "        nset = set(self.neighbors)\n",
    "        if v not in nset:\n",
    "            self.neighbors.append(v)\n",
    "            self.neighbors.sort()\n",
    "\n",
    "class Graph:\n",
    "    vertices = {}\n",
    "    time = 0\n",
    "    \n",
    "    def add_vertex(self, vertex):\n",
    "        if isinstance(vertex, Vertex) and vertex.name not in self.vertices:\n",
    "            self.vertices[vertex.name] = vertex\n",
    "            return True\n",
    "        else:\n",
    "            return False\n",
    "        \n",
    "    def add_edge(self, u, v):\n",
    "        if u in self.vertices and v in self.vertices:\n",
    "            for key, value in self.vertices.items():\n",
    "                if key == u:\n",
    "                    value.add_neighbor(v)\n",
    "                if key == v:\n",
    "                    value.add_neighbor(u)\n",
    "            return True\n",
    "        else:\n",
    "            return False\n",
    "                        \n",
    "    def print_graph(self):\n",
    "        for key in sorted(list(self.vertices.keys())):\n",
    "            print(key + str(self.vertices[key].neighbors) + \"  \" + str(self.vertices[key].discovery))\n",
    "\n",
    "    def _dfs(self, vertex): #defining a recursive DFS function for internal use\n",
    "        global time\n",
    "        vertex.color = 'red'\n",
    "        vertex.discovery = time\n",
    "        time += 1\n",
    "        for v in vertex.neighbors:\n",
    "            if self.vertices[v].color == 'black':\n",
    "                self._dfs(self.vertices[v])\n",
    "            vertex.color = 'blue'\n",
    "            vertex.finish = time\n",
    "            time += 1\n",
    "    \n",
    "    def dfs(self, vertex):\n",
    "        global time\n",
    "        time = 1\n",
    "        self._dfs(vertex)\n",
    "    \n",
    "g = Graph()\n",
    "a = Vertex('A')\n",
    "g.add_vertex(a)\n",
    "for i in range(ord('A'), ord('G')):\n",
    "    g.add_vertex(Vertex(chr(i)))\n",
    "\n",
    "edges = ['AB', 'AC', 'BD', 'BC', 'CD', 'CE', 'DE', 'DF', 'EF']\n",
    "for edge in edges:\n",
    "    g.add_edge(edge[:1], edge[1:])\n",
    "\n",
    "g.dfs(a)\n",
    "g.print_graph()"
   ]
  }
 ],
 "metadata": {
  "kernelspec": {
   "display_name": "Python 3",
   "language": "python",
   "name": "python3"
  },
  "language_info": {
   "codemirror_mode": {
    "name": "ipython",
    "version": 3
   },
   "file_extension": ".py",
   "mimetype": "text/x-python",
   "name": "python",
   "nbconvert_exporter": "python",
   "pygments_lexer": "ipython3",
   "version": "3.7.4"
  }
 },
 "nbformat": 4,
 "nbformat_minor": 2
}
